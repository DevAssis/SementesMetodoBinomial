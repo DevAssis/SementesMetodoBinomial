{
  "nbformat": 4,
  "nbformat_minor": 0,
  "metadata": {
    "colab": {
      "provenance": [],
      "authorship_tag": "ABX9TyO/KG83iHcYZx73cP4dNzsy",
      "include_colab_link": true
    },
    "kernelspec": {
      "name": "python3",
      "display_name": "Python 3"
    },
    "language_info": {
      "name": "python"
    }
  },
  "cells": [
    {
      "cell_type": "markdown",
      "metadata": {
        "id": "view-in-github",
        "colab_type": "text"
      },
      "source": [
        "<a href=\"https://colab.research.google.com/github/DevAssis/SementesMetodoBinomial/blob/master/SementesMetodoBinomial.ipynb\" target=\"_parent\"><img src=\"https://colab.research.google.com/assets/colab-badge.svg\" alt=\"Open In Colab\"/></a>"
      ]
    },
    {
      "cell_type": "markdown",
      "source": [
        "# Projeto: Cálculo da probabilidade de germinação de sementes infectadas\n",
        "\n",
        "Este projeto tem como objetivo calcular a probabilidade de uma semente infectada germinar com base nas informações disponíveis em um experimento. O experimento envolve a disseminação de 320 sementes de aveia após serem contaminadas com um fungo. A pesquisa deseja saber qual a probabilidade &Theta; de uma semente infectada germinar. Infelizmente o número exato de sementes germinadas não pode ser avaliado, mas sabemos que menos de 25 sementes germinaram.\n",
        "\n",
        "## *Código:*"
      ],
      "metadata": {
        "id": "KffMjwpjcdOS"
      }
    },
    {
      "cell_type": "code",
      "source": [
        "import matplotlib.pyplot as plt\n",
        "from scipy.stats import binom\n",
        "\n",
        "n = 320 # número total de sementes\n",
        "k = 25 # número máximo de sementes germinadas\n",
        "theta = [i/100 for i in range(101)] # valores possíveis para theta\n",
        "\n",
        "def prob(theta):\n",
        "    return binom.cdf(k-1, n, theta)\n",
        "\n",
        "probabilities = [prob(t) for t in theta]\n"
      ],
      "metadata": {
        "id": "xNSP0oQsclV_"
      },
      "execution_count": 5,
      "outputs": []
    },
    {
      "cell_type": "markdown",
      "source": [
        "Este código usa a distribuição binomial para modelar o número de sementes germinadas. A função binom.cdf da biblioteca scipy.stats é usada para calcular a probabilidade acumulada de que o número de sementes germinadas seja menor que k. Isso é feito para cada valor possível de Θ na lista theta.\n",
        "\n",
        "O código abaixo adiciona a impressão da probabilidade Θ de uma semente infectada germinar e inclui um loop for que itera sobre os valores possíveis de Θ e suas respectivas probabilidades. Para cada valor de Θ, a probabilidade correspondente é impressa usando a função print."
      ],
      "metadata": {
        "id": "zRaEhpAcda4f"
      }
    },
    {
      "cell_type": "code",
      "source": [
        "for t, p in zip(theta, probabilities):\n",
        "    print(f'Para &Theta;={t:.2f}, a probabilidade de uma semente infectada germinar é {p:.4f}')"
      ],
      "metadata": {
        "colab": {
          "base_uri": "https://localhost:8080/"
        },
        "id": "47Cqvtfhd-r7",
        "outputId": "707db726-bd3c-443b-b394-d16c8fc23723"
      },
      "execution_count": 6,
      "outputs": [
        {
          "output_type": "stream",
          "name": "stdout",
          "text": [
            "Para &Theta;=0.00, a probabilidade de uma semente infectada germinar é 1.0000\n",
            "Para &Theta;=0.01, a probabilidade de uma semente infectada germinar é 1.0000\n",
            "Para &Theta;=0.02, a probabilidade de uma semente infectada germinar é 1.0000\n",
            "Para &Theta;=0.03, a probabilidade de uma semente infectada germinar é 1.0000\n",
            "Para &Theta;=0.04, a probabilidade de uma semente infectada germinar é 0.9987\n",
            "Para &Theta;=0.05, a probabilidade de uma semente infectada germinar é 0.9805\n",
            "Para &Theta;=0.06, a probabilidade de uma semente infectada germinar é 0.8911\n",
            "Para &Theta;=0.07, a probabilidade de uma semente infectada germinar é 0.6861\n",
            "Para &Theta;=0.08, a probabilidade de uma semente infectada germinar é 0.4212\n",
            "Para &Theta;=0.09, a probabilidade de uma semente infectada germinar é 0.2026\n",
            "Para &Theta;=0.10, a probabilidade de uma semente infectada germinar é 0.0770\n",
            "Para &Theta;=0.11, a probabilidade de uma semente infectada germinar é 0.0236\n",
            "Para &Theta;=0.12, a probabilidade de uma semente infectada germinar é 0.0059\n",
            "Para &Theta;=0.13, a probabilidade de uma semente infectada germinar é 0.0012\n",
            "Para &Theta;=0.14, a probabilidade de uma semente infectada germinar é 0.0002\n",
            "Para &Theta;=0.15, a probabilidade de uma semente infectada germinar é 0.0000\n",
            "Para &Theta;=0.16, a probabilidade de uma semente infectada germinar é 0.0000\n",
            "Para &Theta;=0.17, a probabilidade de uma semente infectada germinar é 0.0000\n",
            "Para &Theta;=0.18, a probabilidade de uma semente infectada germinar é 0.0000\n",
            "Para &Theta;=0.19, a probabilidade de uma semente infectada germinar é 0.0000\n",
            "Para &Theta;=0.20, a probabilidade de uma semente infectada germinar é 0.0000\n",
            "Para &Theta;=0.21, a probabilidade de uma semente infectada germinar é 0.0000\n",
            "Para &Theta;=0.22, a probabilidade de uma semente infectada germinar é 0.0000\n",
            "Para &Theta;=0.23, a probabilidade de uma semente infectada germinar é 0.0000\n",
            "Para &Theta;=0.24, a probabilidade de uma semente infectada germinar é 0.0000\n",
            "Para &Theta;=0.25, a probabilidade de uma semente infectada germinar é 0.0000\n",
            "Para &Theta;=0.26, a probabilidade de uma semente infectada germinar é 0.0000\n",
            "Para &Theta;=0.27, a probabilidade de uma semente infectada germinar é 0.0000\n",
            "Para &Theta;=0.28, a probabilidade de uma semente infectada germinar é 0.0000\n",
            "Para &Theta;=0.29, a probabilidade de uma semente infectada germinar é 0.0000\n",
            "Para &Theta;=0.30, a probabilidade de uma semente infectada germinar é 0.0000\n",
            "Para &Theta;=0.31, a probabilidade de uma semente infectada germinar é 0.0000\n",
            "Para &Theta;=0.32, a probabilidade de uma semente infectada germinar é 0.0000\n",
            "Para &Theta;=0.33, a probabilidade de uma semente infectada germinar é 0.0000\n",
            "Para &Theta;=0.34, a probabilidade de uma semente infectada germinar é 0.0000\n",
            "Para &Theta;=0.35, a probabilidade de uma semente infectada germinar é 0.0000\n",
            "Para &Theta;=0.36, a probabilidade de uma semente infectada germinar é 0.0000\n",
            "Para &Theta;=0.37, a probabilidade de uma semente infectada germinar é 0.0000\n",
            "Para &Theta;=0.38, a probabilidade de uma semente infectada germinar é 0.0000\n",
            "Para &Theta;=0.39, a probabilidade de uma semente infectada germinar é 0.0000\n",
            "Para &Theta;=0.40, a probabilidade de uma semente infectada germinar é 0.0000\n",
            "Para &Theta;=0.41, a probabilidade de uma semente infectada germinar é 0.0000\n",
            "Para &Theta;=0.42, a probabilidade de uma semente infectada germinar é 0.0000\n",
            "Para &Theta;=0.43, a probabilidade de uma semente infectada germinar é 0.0000\n",
            "Para &Theta;=0.44, a probabilidade de uma semente infectada germinar é 0.0000\n",
            "Para &Theta;=0.45, a probabilidade de uma semente infectada germinar é 0.0000\n",
            "Para &Theta;=0.46, a probabilidade de uma semente infectada germinar é 0.0000\n",
            "Para &Theta;=0.47, a probabilidade de uma semente infectada germinar é 0.0000\n",
            "Para &Theta;=0.48, a probabilidade de uma semente infectada germinar é 0.0000\n",
            "Para &Theta;=0.49, a probabilidade de uma semente infectada germinar é 0.0000\n",
            "Para &Theta;=0.50, a probabilidade de uma semente infectada germinar é 0.0000\n",
            "Para &Theta;=0.51, a probabilidade de uma semente infectada germinar é 0.0000\n",
            "Para &Theta;=0.52, a probabilidade de uma semente infectada germinar é 0.0000\n",
            "Para &Theta;=0.53, a probabilidade de uma semente infectada germinar é 0.0000\n",
            "Para &Theta;=0.54, a probabilidade de uma semente infectada germinar é 0.0000\n",
            "Para &Theta;=0.55, a probabilidade de uma semente infectada germinar é 0.0000\n",
            "Para &Theta;=0.56, a probabilidade de uma semente infectada germinar é 0.0000\n",
            "Para &Theta;=0.57, a probabilidade de uma semente infectada germinar é 0.0000\n",
            "Para &Theta;=0.58, a probabilidade de uma semente infectada germinar é 0.0000\n",
            "Para &Theta;=0.59, a probabilidade de uma semente infectada germinar é 0.0000\n",
            "Para &Theta;=0.60, a probabilidade de uma semente infectada germinar é 0.0000\n",
            "Para &Theta;=0.61, a probabilidade de uma semente infectada germinar é 0.0000\n",
            "Para &Theta;=0.62, a probabilidade de uma semente infectada germinar é 0.0000\n",
            "Para &Theta;=0.63, a probabilidade de uma semente infectada germinar é 0.0000\n",
            "Para &Theta;=0.64, a probabilidade de uma semente infectada germinar é 0.0000\n",
            "Para &Theta;=0.65, a probabilidade de uma semente infectada germinar é 0.0000\n",
            "Para &Theta;=0.66, a probabilidade de uma semente infectada germinar é 0.0000\n",
            "Para &Theta;=0.67, a probabilidade de uma semente infectada germinar é 0.0000\n",
            "Para &Theta;=0.68, a probabilidade de uma semente infectada germinar é 0.0000\n",
            "Para &Theta;=0.69, a probabilidade de uma semente infectada germinar é 0.0000\n",
            "Para &Theta;=0.70, a probabilidade de uma semente infectada germinar é 0.0000\n",
            "Para &Theta;=0.71, a probabilidade de uma semente infectada germinar é 0.0000\n",
            "Para &Theta;=0.72, a probabilidade de uma semente infectada germinar é 0.0000\n",
            "Para &Theta;=0.73, a probabilidade de uma semente infectada germinar é 0.0000\n",
            "Para &Theta;=0.74, a probabilidade de uma semente infectada germinar é 0.0000\n",
            "Para &Theta;=0.75, a probabilidade de uma semente infectada germinar é 0.0000\n",
            "Para &Theta;=0.76, a probabilidade de uma semente infectada germinar é 0.0000\n",
            "Para &Theta;=0.77, a probabilidade de uma semente infectada germinar é 0.0000\n",
            "Para &Theta;=0.78, a probabilidade de uma semente infectada germinar é 0.0000\n",
            "Para &Theta;=0.79, a probabilidade de uma semente infectada germinar é 0.0000\n",
            "Para &Theta;=0.80, a probabilidade de uma semente infectada germinar é 0.0000\n",
            "Para &Theta;=0.81, a probabilidade de uma semente infectada germinar é 0.0000\n",
            "Para &Theta;=0.82, a probabilidade de uma semente infectada germinar é 0.0000\n",
            "Para &Theta;=0.83, a probabilidade de uma semente infectada germinar é 0.0000\n",
            "Para &Theta;=0.84, a probabilidade de uma semente infectada germinar é 0.0000\n",
            "Para &Theta;=0.85, a probabilidade de uma semente infectada germinar é 0.0000\n",
            "Para &Theta;=0.86, a probabilidade de uma semente infectada germinar é 0.0000\n",
            "Para &Theta;=0.87, a probabilidade de uma semente infectada germinar é 0.0000\n",
            "Para &Theta;=0.88, a probabilidade de uma semente infectada germinar é 0.0000\n",
            "Para &Theta;=0.89, a probabilidade de uma semente infectada germinar é 0.0000\n",
            "Para &Theta;=0.90, a probabilidade de uma semente infectada germinar é 0.0000\n",
            "Para &Theta;=0.91, a probabilidade de uma semente infectada germinar é 0.0000\n",
            "Para &Theta;=0.92, a probabilidade de uma semente infectada germinar é 0.0000\n",
            "Para &Theta;=0.93, a probabilidade de uma semente infectada germinar é 0.0000\n",
            "Para &Theta;=0.94, a probabilidade de uma semente infectada germinar é 0.0000\n",
            "Para &Theta;=0.95, a probabilidade de uma semente infectada germinar é 0.0000\n",
            "Para &Theta;=0.96, a probabilidade de uma semente infectada germinar é 0.0000\n",
            "Para &Theta;=0.97, a probabilidade de uma semente infectada germinar é 0.0000\n",
            "Para &Theta;=0.98, a probabilidade de uma semente infectada germinar é 0.0000\n",
            "Para &Theta;=0.99, a probabilidade de uma semente infectada germinar é 0.0000\n",
            "Para &Theta;=1.00, a probabilidade de uma semente infectada germinar é 0.0000\n"
          ]
        }
      ]
    },
    {
      "cell_type": "markdown",
      "source": [
        "## *Plotagem:*\n",
        "\n",
        "O código abaixo mostra como plotar os resultados do programa usando a biblioteca matplotlib.\n",
        "\n",
        "Este código cria um gráfico dos resultados usando a função plot da biblioteca matplotlib.pyplot. O gráfico mostra a probabilidade de uma semente infectada germinar em função de Θ. Você pode personalizar o gráfico alterando as propriedades do eixo x e y, adicionando um título e outras opções disponíveis na biblioteca matplotlib:"
      ],
      "metadata": {
        "id": "duC1iFuQed0g"
      }
    },
    {
      "cell_type": "code",
      "source": [
        "plt.plot(theta, probabilities)\n",
        "plt.xlabel('&Theta;')\n",
        "plt.ylabel('Probabilidade')\n",
        "plt.title('Probabilidade de uma semente infectada germinar')\n",
        "plt.show()"
      ],
      "metadata": {
        "colab": {
          "base_uri": "https://localhost:8080/",
          "height": 295
        },
        "id": "TNssxgHedKdS",
        "outputId": "2561c89a-7c25-48e3-bea5-9546939b4004"
      },
      "execution_count": 7,
      "outputs": [
        {
          "output_type": "display_data",
          "data": {
            "text/plain": [
              "<Figure size 432x288 with 1 Axes>"
            ],
            "image/png": "[encoded data removed]"
          },
          "metadata": {
            "needs_background": "light"
          }
        }
      ]
    },
    {
      "cell_type": "markdown",
      "source": [
        "# Interpretação dos resultados.\n",
        "\n",
        "\n",
        "Os resultados do programa mostram a probabilidade de uma semente infectada germinar para cada valor possível de Θ. Como o número exato de sementes germinadas não pode ser avaliado e sabemos apenas que menos de 25 sementes germinaram, a função de probabilidade é calculada usando a distribuição binomial acumulada até k-1, onde k é o número máximo de sementes germinadas.\n",
        "\n",
        "Isso significa que, para cada valor possível de Θ, o programa calcula a probabilidade de que o número de sementes germinadas seja menor que k. Essa probabilidade pode ser interpretada como a chance de observar menos de k sementes germinadas dado um valor específico para Θ.\n",
        "\n",
        "Você pode usar essas probabilidades para avaliar quais valores de Θ são mais prováveis com base nas informações disponíveis no experimento."
      ],
      "metadata": {
        "id": "hcAQ4tkveyE7"
      }
    },
    {
      "cell_type": "markdown",
      "source": [
        "## Como posso usar essa fórmula em outros contextos?\n",
        "\n",
        "A fórmula baseada na distribuição binomial acumulada pode ser usada em outros contextos onde você deseja modelar o número de sucessos em um número fixo de tentativas independentes. Alguns exemplos de situações onde essa fórmula pode ser aplicada incluem:\n",
        "\n",
        "Lançamento de moedas: Se você lançar uma moeda n vezes e quiser saber a probabilidade de observar menos de k caras, você pode usar a fórmula com Θ igual à probabilidade de obter cara em um único lançamento (geralmente 0,5 para uma moeda justa).\n",
        "\n",
        "Teste de múltipla escolha: Se você fizer um teste de múltipla escolha com n questões e cada questão tiver 4 opções de resposta, você pode usar a fórmula para calcular a probabilidade de acertar menos de k questões por acaso. Nesse caso, Θ seria igual a 0,25 (a probabilidade de acertar uma questão por acaso).\n",
        "\n",
        "Controle de qualidade: Se você produzir n itens e cada item tiver uma probabilidade Θ de ser defeituoso, você pode usar a fórmula para calcular a probabilidade de observar menos de k itens defeituosos em uma amostra.\n",
        "\n",
        "Esses são apenas alguns exemplos de situações onde a fórmula baseada na distribuição binomial acumulada pode ser aplicada. Em geral, sempre que você tiver um número fixo de tentativas independentes com a mesma probabilidade de sucesso, você pode usar essa fórmula para calcular a probabilidade de observar um número específico ou intervalo de sucessos."
      ],
      "metadata": {
        "id": "JXm9lluefET-"
      }
    }
  ]
}